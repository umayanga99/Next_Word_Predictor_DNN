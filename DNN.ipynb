{
  "cells": [
    {
      "cell_type": "code",
      "execution_count": null,
      "metadata": {
        "id": "1JEWqk8iFdeU"
      },
      "outputs": [],
      "source": [
        "import tensorflow as tf\n",
        "from tensorflow.keras.models import sequential\n",
        "from tensorflow.keras.layers import Embedding,LSTM, control_dependencies\n",
        "from tensorflow.keras.preprocessing.text import Tokenizer\n",
        "from tensorflow.keras.preprocessing.sequence import pad_sequence\n",
        "import numpy as np\n",
        "import regex as re"
      ]
    },
    {
      "cell_type": "code",
      "source": [
        "#path for the file\n",
        "file_path=\"pizza.txt\"\n",
        "\n",
        "#reading the file\n",
        "with open (file_path,\"r\") as file:\n",
        "    text=file.read()\n",
        "\n",
        "    #spliting the data input according to the regex provided\n",
        "    data=[sentence.strip() for sentence in re.split(r'(?<=[.!?]\\s+)',text) if sentence.strip()]\n",
        "\n"
      ],
      "metadata": {
        "id": "bYVz0ExcF2b4"
      },
      "execution_count": null,
      "outputs": []
    }
  ],
  "metadata": {
    "language_info": {
      "name": "python"
    },
    "orig_nbformat": 4,
    "colab": {
      "provenance": []
    },
    "kernelspec": {
      "name": "python3",
      "display_name": "Python 3"
    }
  },
  "nbformat": 4,
  "nbformat_minor": 0
}