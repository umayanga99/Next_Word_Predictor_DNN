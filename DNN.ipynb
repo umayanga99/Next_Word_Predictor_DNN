{
  "cells": [
    {
      "cell_type": "code",
      "execution_count": 10,
      "metadata": {
        "id": "1JEWqk8iFdeU"
      },
      "outputs": [],
      "source": [
        "import tensorflow as tf\n",
        "from tensorflow.keras.models import Sequential\n",
        "from tensorflow.keras.layers import Embedding,LSTM, Dense\n",
        "from tensorflow.keras.preprocessing.text import Tokenizer\n",
        "from tensorflow.keras.preprocessing.sequence import pad_sequences\n",
        "import numpy as np\n",
        "import regex as re"
      ]
    },
    {
      "cell_type": "code",
      "source": [
        "#path for the file\n",
        "file_path=\"pizza.txt\"\n",
        "\n",
        "#reading the file\n",
        "with open (file_path,\"r\") as file:\n",
        "    text=file.read()\n",
        "\n",
        "    #spliting the data input according to the regex provided\n",
        "    data=[sentence.strip() for sentence in re.split(r'(?<=[.!?]\\s+)',text) if sentence.strip()]\n",
        "\n"
      ],
      "metadata": {
        "id": "bYVz0ExcF2b4"
      },
      "execution_count": 11,
      "outputs": []
    },
    {
      "cell_type": "code",
      "source": [
        "#making an instance of the tokenizer\n",
        "# tokenizer is used to map each unique word into uniqye integer\n",
        "tokenizer=Tokenizer()\n",
        "\n",
        "#scans through all the texts and keeps track of the frequency of each word in the texts\n",
        "tokenizer.fit_on_texts(data)\n",
        "# +1 is to act as a place holder for out-of-vocabulary\n",
        "total_words=len(tokenizer.word_index)+1"
      ],
      "metadata": {
        "id": "JOxK05twLtrk"
      },
      "execution_count": 12,
      "outputs": []
    },
    {
      "cell_type": "code",
      "source": [
        "input_sequence=[]\n",
        "for line in text:\n",
        "    token_list=tokenizer.texts_to_sequences([line])[0]\n",
        "    for i in range(1,len(token_list)):\n",
        "        n_gram_sequence=token_list[:i+1]\n",
        "        input_sequence.append(n_gram_sequence)"
      ],
      "metadata": {
        "id": "V712_kaBQTBU"
      },
      "execution_count": null,
      "outputs": []
    }
  ],
  "metadata": {
    "language_info": {
      "name": "python"
    },
    "orig_nbformat": 4,
    "colab": {
      "provenance": []
    },
    "kernelspec": {
      "name": "python3",
      "display_name": "Python 3"
    }
  },
  "nbformat": 4,
  "nbformat_minor": 0
}